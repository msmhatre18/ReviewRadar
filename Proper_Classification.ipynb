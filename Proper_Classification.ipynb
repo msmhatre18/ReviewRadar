{
 "cells": [
  {
   "cell_type": "code",
   "execution_count": 54,
   "id": "0edbcd14",
   "metadata": {},
   "outputs": [],
   "source": [
    "import pandas as pd \n",
    "dataset = pd.read_csv('Train.csv')\n",
    "grouped = dataset.groupby('label')\n",
    "\n",
    "# Select 2000 random reviews from each category\n",
    "dataset = pd.concat([g.sample(2000, random_state=42) for _, g in grouped])"
   ]
  },
  {
   "cell_type": "code",
   "execution_count": 55,
   "id": "91cb597f",
   "metadata": {},
   "outputs": [],
   "source": [
    "import re\n",
    "import nltk\n",
    "#nltk.download('stopwords')\n",
    "#nltk.download('wordnet')"
   ]
  },
  {
   "cell_type": "code",
   "execution_count": 56,
   "id": "d48bb14c",
   "metadata": {},
   "outputs": [],
   "source": [
    "from nltk.corpus import stopwords\n",
    "from nltk.stem import WordNetLemmatizer\n",
    "\n",
    "corpus = []\n",
    "for i in range(0, 4000):\n",
    "    review = re.sub('[^a-zA-Z]', ' ', dataset.iloc[i, dataset.columns.get_loc('text')])\n",
    "    review = review.lower()\n",
    "    review = review.split()\n",
    "    lemmatizer = WordNetLemmatizer()\n",
    "    all_stopwords = stopwords.words('english')\n",
    "    all_stopwords.remove('not')\n",
    "    review = [lemmatizer.lemmatize(word) for word in review if word not in set(all_stopwords)]\n",
    "    review = ' '.join(review)\n",
    "    corpus.append(review)\n",
    "\n",
    "    #changed from stemming to lemmatization to make sure more interpretable results are derived"
   ]
  },
  {
   "cell_type": "code",
   "execution_count": 57,
   "id": "494db27d",
   "metadata": {},
   "outputs": [],
   "source": [
    "#print(corpus)"
   ]
  },
  {
   "cell_type": "code",
   "execution_count": 58,
   "id": "6ded25f8",
   "metadata": {},
   "outputs": [],
   "source": [
    "#using TF-IDF for vectorization instead of bag of words\n",
    "from sklearn.feature_extraction.text import TfidfVectorizer\n",
    "\n",
    "cv = TfidfVectorizer(max_features=2500)\n",
    "X = cv.fit_transform(corpus).toarray()\n",
    "y = dataset.iloc[:, -1].values"
   ]
  },
  {
   "cell_type": "code",
   "execution_count": 59,
   "id": "18974a08",
   "metadata": {},
   "outputs": [],
   "source": [
    "from sklearn.model_selection import train_test_split\n",
    "X_train, X_test, y_train, y_test = train_test_split(X, y, test_size = 0.20, random_state = 0)"
   ]
  },
  {
   "cell_type": "code",
   "execution_count": 60,
   "id": "57c79c3d",
   "metadata": {},
   "outputs": [],
   "source": [
    "import lightgbm as lgb"
   ]
  },
  {
   "cell_type": "code",
   "execution_count": 61,
   "id": "fc63acdb",
   "metadata": {},
   "outputs": [],
   "source": [
    "classifier = lgb.LGBMClassifier(max_depth=20, n_estimators=25, min_child_weight= 0.0016, n_jobs=-1)"
   ]
  },
  {
   "cell_type": "code",
   "execution_count": 62,
   "id": "11575949",
   "metadata": {},
   "outputs": [
    {
     "name": "stdout",
     "output_type": "stream",
     "text": [
      "Accuracy: 79.88 %\n",
      "Standard Deviation: 1.59 %\n"
     ]
    }
   ],
   "source": [
    "classifier.fit(X_train, y_train)\n",
    "\n",
    "y_pred = classifier.predict(X_test)\n",
    "\n",
    "\n",
    "from sklearn.model_selection import cross_val_score\n",
    "accuracies = cross_val_score(estimator = classifier, X = X_train, y = y_train, cv = 10)\n",
    "print(\"Accuracy: {:.2f} %\".format(accuracies.mean()*100))\n",
    "print(\"Standard Deviation: {:.2f} %\".format(accuracies.std()*100))"
   ]
  },
  {
   "cell_type": "code",
   "execution_count": 65,
   "id": "7a46dbf6",
   "metadata": {},
   "outputs": [],
   "source": [
    "import pickle\n",
    "\n",
    "# Save the model\n",
    "with open('model.pkl', 'wb') as f:\n",
    "    pickle.dump(classifier, f)\n"
   ]
  },
  {
   "cell_type": "code",
   "execution_count": 67,
   "id": "5bd3e1fa",
   "metadata": {},
   "outputs": [],
   "source": [
    "with open('vectorizer.pkl', 'wb') as f:\n",
    "    pickle.dump(cv, f)"
   ]
  }
 ],
 "metadata": {
  "kernelspec": {
   "display_name": "Python 3 (ipykernel)",
   "language": "python",
   "name": "python3"
  },
  "language_info": {
   "codemirror_mode": {
    "name": "ipython",
    "version": 3
   },
   "file_extension": ".py",
   "mimetype": "text/x-python",
   "name": "python",
   "nbconvert_exporter": "python",
   "pygments_lexer": "ipython3",
   "version": "3.9.15"
  }
 },
 "nbformat": 4,
 "nbformat_minor": 5
}
